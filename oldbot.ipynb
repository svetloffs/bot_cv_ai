{
 "cells": [
  {
   "cell_type": "code",
   "execution_count": null,
   "metadata": {},
   "outputs": [],
   "source": [
    "import telebot\n",
    "from my_utils import config\n",
    "from telebot import types\n",
    "import os\n",
    "import pathlib\n",
    "from my_utils.wiki import WikiArticle\n",
    "from my_utils import mashrooms as mr\n",
    "from pprint import pprint"
   ]
  },
  {
   "cell_type": "code",
   "execution_count": null,
   "metadata": {},
   "outputs": [],
   "source": [
    "bot = telebot.TeleBot(config.APIKEY)\n",
    "PHOTO_PATH = './photo_users'\n",
    "os.makedirs(PHOTO_PATH, exist_ok=True)\n",
    "mashrooms_dict = mr.mashrooms_dict\n",
    "# mashrooms_dict[0]\n",
    "item = mashrooms_dict[-1]['rus']"
   ]
  },
  {
   "cell_type": "code",
   "execution_count": null,
   "metadata": {},
   "outputs": [],
   "source": [
    "def get_wiki_info(message):\n",
    "    print('Get message:\\n')\n",
    "    print(message)"
   ]
  },
  {
   "cell_type": "code",
   "execution_count": null,
   "metadata": {},
   "outputs": [],
   "source": [
    "@bot.message_handler(commands=[\"start\"])\n",
    "def start(message, res=False):\n",
    "    # markup = types.ReplyKeyboardMarkup(resize_keyboard=True)\n",
    "    # btn1 = types.KeyboardButton(\"Wiki\")\n",
    "    # btn2 = types.KeyboardButton(\"Photo\")\n",
    "    # markup.add(btn1)\n",
    "    # markup.add(btn2)\n",
    "    bot.send_message(\n",
    "        message.chat.id, \n",
    "        'Отправьте мне название гриба и я найду его значение на Wikipedia',\n",
    "        # reply_markup=markup\n",
    "        )\n",
    "\n",
    "# Получение сообщений от юзера\n",
    "@bot.message_handler(content_types=[\"photo\", \"text\"])\n",
    "def photo(message):\n",
    "    print('Photo content:')\n",
    "    print(f\"User ID: {message.from_user.id}\\n\"\n",
    "          f\"User UserNick: {message.from_user.username}\\n\"\n",
    "          f\"User FirstName: {message.from_user.first_name}\\n\"\n",
    "          f\"User LastName: {message.from_user.last_name}\\n\")\n",
    "\n",
    "    print('message.caption =', message.caption)\n",
    "    print('message.text =', message.text)\n",
    "    print('message.photo =', message.photo)\n",
    "    # print(f\"Content:\\n {message}\")\n",
    "    bot.send_message(\n",
    "        message.chat.id, \n",
    "        get_wiki_info(message)\n",
    "        )\n",
    "bot.polling(none_stop=True, interval=0)"
   ]
  },
  {
   "cell_type": "code",
   "execution_count": null,
   "metadata": {},
   "outputs": [],
   "source": []
  }
 ],
 "metadata": {
  "kernelspec": {
   "display_name": "base",
   "language": "python",
   "name": "python3"
  },
  "language_info": {
   "codemirror_mode": {
    "name": "ipython",
    "version": 3
   },
   "file_extension": ".py",
   "mimetype": "text/x-python",
   "name": "python",
   "nbconvert_exporter": "python",
   "pygments_lexer": "ipython3",
   "version": "3.9.13"
  },
  "orig_nbformat": 4
 },
 "nbformat": 4,
 "nbformat_minor": 2
}
