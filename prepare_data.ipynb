{
 "cells": [
  {
   "cell_type": "code",
   "execution_count": null,
   "metadata": {},
   "outputs": [],
   "source": [
    "# !pip install tensorflow\n",
    "# !pip install pandas\n",
    "# !pip install sweetviz\n",
    "# !pip install ydata-profiling\n",
    "# !pip install ipywidgets"
   ]
  },
  {
   "cell_type": "code",
   "execution_count": null,
   "metadata": {},
   "outputs": [],
   "source": [
    "import sweetviz\n",
    "sweetviz.__version__"
   ]
  },
  {
   "cell_type": "code",
   "execution_count": null,
   "metadata": {},
   "outputs": [],
   "source": [
    "import os\n",
    "import pandas as pd # data processing, CSV file I/O (e.g. pd.read_csv)\n",
    "# import tensorflow as tf\n",
    "import json\n",
    "import torch\n",
    "import segmentation_models_pytorch as smp\n",
    "import os\n",
    "import numpy as np\n",
    "import json\n",
    "# from keras.preprocessing import image\n",
    "import matplotlib.pyplot as plt\n",
    "from tqdm import tqdm\n",
    "# import seaborn as sns\n",
    "import sweetviz as sv\n",
    "import matplotlib.pyplot as plt\n",
    "%matplotlib inline"
   ]
  },
  {
   "cell_type": "code",
   "execution_count": null,
   "metadata": {},
   "outputs": [],
   "source": [
    "pd.__version__"
   ]
  },
  {
   "cell_type": "code",
   "execution_count": null,
   "metadata": {},
   "outputs": [],
   "source": [
    "pd.options.display.max_rows = 100\n",
    "pd.options.display.max_columns = 100"
   ]
  },
  {
   "cell_type": "code",
   "execution_count": null,
   "metadata": {},
   "outputs": [],
   "source": [
    "def read_json(json_path):\n",
    "    with open(json_path, 'r') as f:\n",
    "        data = json.load(f)\n",
    "    f.close()\n",
    "    # Create different lists from the data dictionary\n",
    "\n",
    "    annotations = pd.DataFrame(data[\"annotations\"])\n",
    "    category = pd.DataFrame(data[\"categories\"])\n",
    "    info = pd.DataFrame.from_dict(data[\"info\"], orient='index')\n",
    "    images = pd.DataFrame(data['images'])\n",
    "    licenses = pd.DataFrame(data['licenses'])\n",
    "    return annotations, category, info, images, licenses"
   ]
  },
  {
   "cell_type": "code",
   "execution_count": null,
   "metadata": {},
   "outputs": [],
   "source": [
    "json_train_path = './dataset/fungi/train_val_annotations/train.json'\n",
    "json_val_path = './dataset/fungi/train_val_annotations/val.json'\n",
    "tr_annotation, tr_category, tr_info, tr_images, tr_licenses = read_json(json_train_path)\n",
    "val_annotation, val_category, val_info, val_images, val_licenses = read_json(json_val_path)"
   ]
  },
  {
   "cell_type": "code",
   "execution_count": 20,
   "metadata": {},
   "outputs": [
    {
     "data": {
      "text/html": [
       "<div>\n",
       "<style scoped>\n",
       "    .dataframe tbody tr th:only-of-type {\n",
       "        vertical-align: middle;\n",
       "    }\n",
       "\n",
       "    .dataframe tbody tr th {\n",
       "        vertical-align: top;\n",
       "    }\n",
       "\n",
       "    .dataframe thead th {\n",
       "        text-align: right;\n",
       "    }\n",
       "</style>\n",
       "<table border=\"1\" class=\"dataframe\">\n",
       "  <thead>\n",
       "    <tr style=\"text-align: right;\">\n",
       "      <th></th>\n",
       "      <th>id</th>\n",
       "      <th>category_id</th>\n",
       "      <th>image_id</th>\n",
       "    </tr>\n",
       "  </thead>\n",
       "  <tbody>\n",
       "    <tr>\n",
       "      <th>0</th>\n",
       "      <td>43829</td>\n",
       "      <td>650</td>\n",
       "      <td>21942</td>\n",
       "    </tr>\n",
       "    <tr>\n",
       "      <th>1</th>\n",
       "      <td>44039</td>\n",
       "      <td>650</td>\n",
       "      <td>21943</td>\n",
       "    </tr>\n",
       "    <tr>\n",
       "      <th>2</th>\n",
       "      <td>44255</td>\n",
       "      <td>650</td>\n",
       "      <td>21944</td>\n",
       "    </tr>\n",
       "    <tr>\n",
       "      <th>3</th>\n",
       "      <td>44614</td>\n",
       "      <td>650</td>\n",
       "      <td>22210</td>\n",
       "    </tr>\n",
       "    <tr>\n",
       "      <th>4</th>\n",
       "      <td>45510</td>\n",
       "      <td>650</td>\n",
       "      <td>24812</td>\n",
       "    </tr>\n",
       "  </tbody>\n",
       "</table>\n",
       "</div>"
      ],
      "text/plain": [
       "      id  category_id  image_id\n",
       "0  43829          650     21942\n",
       "1  44039          650     21943\n",
       "2  44255          650     21944\n",
       "3  44614          650     22210\n",
       "4  45510          650     24812"
      ]
     },
     "execution_count": 20,
     "metadata": {},
     "output_type": "execute_result"
    }
   ],
   "source": [
    "tr_annotation.head()"
   ]
  },
  {
   "cell_type": "code",
   "execution_count": null,
   "metadata": {},
   "outputs": [],
   "source": [
    "def create_merged_json_df(images, annotations, category):\n",
    "    \"\"\" args = takes the three important dataframes\n",
    "    returns = create a merged dataframe with all the important data\n",
    "    \"\"\"\n",
    "    data_df = images.copy()\n",
    "\n",
    "    ## to the images dataframe, we add the category_id column - our target\n",
    "    data_df['category_id'] = annotations[annotations['image_id'] == data_df['id']]['category_id']\n",
    "    category.set_index('id')\n",
    "    data_df = pd.merge(left=data_df, right=category, how='left', left_on='category_id', right_on='id')\n",
    "    data_df.drop(columns = ['id_y'], inplace=True)\n",
    "    #change the column to a string?\n",
    "    data_df['category_id'] = data_df['category_id'].astype(str) \n",
    "    # Add the columns of image name and its subdirectory/catefory\n",
    "    data_df['image_name'] = data_df['file_name'].str.split('/').str[2]\n",
    "    data_df['subdir'] = data_df['file_name'].str.split(pat='/', n=1).str[1]\n",
    "    return data_df"
   ]
  },
  {
   "cell_type": "code",
   "execution_count": 18,
   "metadata": {},
   "outputs": [
    {
     "data": {
      "text/html": [
       "<div>\n",
       "<style scoped>\n",
       "    .dataframe tbody tr th:only-of-type {\n",
       "        vertical-align: middle;\n",
       "    }\n",
       "\n",
       "    .dataframe tbody tr th {\n",
       "        vertical-align: top;\n",
       "    }\n",
       "\n",
       "    .dataframe thead th {\n",
       "        text-align: right;\n",
       "    }\n",
       "</style>\n",
       "<table border=\"1\" class=\"dataframe\">\n",
       "  <thead>\n",
       "    <tr style=\"text-align: right;\">\n",
       "      <th></th>\n",
       "      <th>id_x</th>\n",
       "      <th>file_name</th>\n",
       "      <th>width</th>\n",
       "      <th>license</th>\n",
       "      <th>rights_holder</th>\n",
       "      <th>height</th>\n",
       "      <th>category_id</th>\n",
       "      <th>name</th>\n",
       "      <th>supercategory</th>\n",
       "      <th>image_name</th>\n",
       "      <th>subdir</th>\n",
       "      <th>freq</th>\n",
       "    </tr>\n",
       "  </thead>\n",
       "  <tbody>\n",
       "    <tr>\n",
       "      <th>12224</th>\n",
       "      <td>104802</td>\n",
       "      <td>images/10000_Abortiporus_biennis/ANB2016-91779...</td>\n",
       "      <td>1066</td>\n",
       "      <td>1</td>\n",
       "      <td>Ane Brødsgaard</td>\n",
       "      <td>800</td>\n",
       "      <td>0</td>\n",
       "      <td>Abortiporus biennis</td>\n",
       "      <td>Abortiporus</td>\n",
       "      <td>ANB2016-9177939_BklUi8V50.JPG</td>\n",
       "      <td>10000_Abortiporus_biennis/ANB2016-9177939_BklU...</td>\n",
       "      <td>71</td>\n",
       "    </tr>\n",
       "    <tr>\n",
       "      <th>12223</th>\n",
       "      <td>104801</td>\n",
       "      <td>images/10000_Abortiporus_biennis/ANB2016-91779...</td>\n",
       "      <td>1066</td>\n",
       "      <td>1</td>\n",
       "      <td>Ane Brødsgaard</td>\n",
       "      <td>800</td>\n",
       "      <td>0</td>\n",
       "      <td>Abortiporus biennis</td>\n",
       "      <td>Abortiporus</td>\n",
       "      <td>ANB2016-9177939_ry8j8V50.JPG</td>\n",
       "      <td>10000_Abortiporus_biennis/ANB2016-9177939_ry8j...</td>\n",
       "      <td>71</td>\n",
       "    </tr>\n",
       "    <tr>\n",
       "      <th>12225</th>\n",
       "      <td>105576</td>\n",
       "      <td>images/10000_Abortiporus_biennis/ANB2016-91787...</td>\n",
       "      <td>1066</td>\n",
       "      <td>1</td>\n",
       "      <td>Ane Brødsgaard</td>\n",
       "      <td>800</td>\n",
       "      <td>0</td>\n",
       "      <td>Abortiporus biennis</td>\n",
       "      <td>Abortiporus</td>\n",
       "      <td>ANB2016-9178737_H1A2LtQyg.JPG</td>\n",
       "      <td>10000_Abortiporus_biennis/ANB2016-9178737_H1A2...</td>\n",
       "      <td>71</td>\n",
       "    </tr>\n",
       "  </tbody>\n",
       "</table>\n",
       "</div>"
      ],
      "text/plain": [
       "         id_x                                          file_name  width  \\\n",
       "12224  104802  images/10000_Abortiporus_biennis/ANB2016-91779...   1066   \n",
       "12223  104801  images/10000_Abortiporus_biennis/ANB2016-91779...   1066   \n",
       "12225  105576  images/10000_Abortiporus_biennis/ANB2016-91787...   1066   \n",
       "\n",
       "       license   rights_holder  height category_id                 name  \\\n",
       "12224        1  Ane Brødsgaard     800           0  Abortiporus biennis   \n",
       "12223        1  Ane Brødsgaard     800           0  Abortiporus biennis   \n",
       "12225        1  Ane Brødsgaard     800           0  Abortiporus biennis   \n",
       "\n",
       "      supercategory                     image_name  \\\n",
       "12224   Abortiporus  ANB2016-9177939_BklUi8V50.JPG   \n",
       "12223   Abortiporus   ANB2016-9177939_ry8j8V50.JPG   \n",
       "12225   Abortiporus  ANB2016-9178737_H1A2LtQyg.JPG   \n",
       "\n",
       "                                                  subdir  freq  \n",
       "12224  10000_Abortiporus_biennis/ANB2016-9177939_BklU...    71  \n",
       "12223  10000_Abortiporus_biennis/ANB2016-9177939_ry8j...    71  \n",
       "12225  10000_Abortiporus_biennis/ANB2016-9178737_H1A2...    71  "
      ]
     },
     "execution_count": 18,
     "metadata": {},
     "output_type": "execute_result"
    }
   ],
   "source": [
    "tr_data = create_merged_json_df(tr_images, tr_annotation, tr_category)\n",
    "tr_data['freq'] = tr_data.groupby('category_id')['category_id'].transform('count')\n",
    "# tr_data['category_id'] = tr_annotation[tr_annotation['image_id'] == tr_data['id']]['category_id']\n",
    "tr_data.sort_values(by=['file_name'], inplace=True)\n",
    "tr_data.head(3)"
   ]
  },
  {
   "cell_type": "code",
   "execution_count": 19,
   "metadata": {},
   "outputs": [
    {
     "data": {
      "text/plain": [
       "'images/10000_Abortiporus_biennis/ANB2016-9177939_BklUi8V50.JPG'"
      ]
     },
     "execution_count": 19,
     "metadata": {},
     "output_type": "execute_result"
    }
   ],
   "source": [
    "tr_data.iloc[0,1]"
   ]
  },
  {
   "cell_type": "code",
   "execution_count": null,
   "metadata": {},
   "outputs": [],
   "source": [
    "val_data = create_merged_json_df(val_images, val_annotation, val_category)\n",
    "val_data.head(3)"
   ]
  },
  {
   "cell_type": "code",
   "execution_count": null,
   "metadata": {},
   "outputs": [],
   "source": [
    "tr_category.set_index('id').head()"
   ]
  },
  {
   "cell_type": "code",
   "execution_count": null,
   "metadata": {},
   "outputs": [],
   "source": [
    "# images_report = sv.analyze(tr_images)\n",
    "# #display the report\n",
    "# images_report.show_html('sweetviz_train_images.html')"
   ]
  },
  {
   "cell_type": "code",
   "execution_count": null,
   "metadata": {},
   "outputs": [],
   "source": [
    "# train_data_report = sv.analyze(tr_data)\n",
    "# #display the report\n",
    "# train_data_report.show_html('sweetviz_train_data.html')"
   ]
  },
  {
   "cell_type": "code",
   "execution_count": null,
   "metadata": {},
   "outputs": [],
   "source": [
    "from ydata_profiling import ProfileReport\n",
    "profile = ProfileReport(tr_images, title='images Pandas Profiling Report')\n",
    "# profile"
   ]
  },
  {
   "cell_type": "code",
   "execution_count": null,
   "metadata": {},
   "outputs": [],
   "source": [
    "profile.to_file('Report_train_json.html')"
   ]
  },
  {
   "cell_type": "code",
   "execution_count": null,
   "metadata": {},
   "outputs": [],
   "source": []
  }
 ],
 "metadata": {
  "kernelspec": {
   "display_name": "base",
   "language": "python",
   "name": "python3"
  },
  "language_info": {
   "codemirror_mode": {
    "name": "ipython",
    "version": 3
   },
   "file_extension": ".py",
   "mimetype": "text/x-python",
   "name": "python",
   "nbconvert_exporter": "python",
   "pygments_lexer": "ipython3",
   "version": "3.9.16"
  },
  "orig_nbformat": 4
 },
 "nbformat": 4,
 "nbformat_minor": 2
}
