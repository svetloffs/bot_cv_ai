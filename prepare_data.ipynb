{
 "cells": [
  {
   "cell_type": "code",
   "execution_count": null,
   "metadata": {},
   "outputs": [],
   "source": [
    "# !pip install tensorflow\n",
    "# !pip install pandas\n",
    "# !pip install sweetviz\n",
    "# !pip install ydata-profiling\n",
    "# !pip install ipywidgets"
   ]
  },
  {
   "cell_type": "code",
   "execution_count": 2,
   "metadata": {},
   "outputs": [],
   "source": [
    "# import sweetviz\n",
    "# sweetviz.__version__"
   ]
  },
  {
   "cell_type": "code",
   "execution_count": 3,
   "metadata": {},
   "outputs": [],
   "source": [
    "import os\n",
    "import pandas as pd # data processing, CSV file I/O (e.g. pd.read_csv)\n",
    "# import tensorflow as tf\n",
    "import json\n",
    "import torch\n",
    "import segmentation_models_pytorch as smp\n",
    "import os\n",
    "import numpy as np\n",
    "import json\n",
    "# from keras.preprocessing import image\n",
    "import matplotlib.pyplot as plt\n",
    "from tqdm import tqdm\n",
    "# import seaborn as sns\n",
    "import sweetviz as sv\n",
    "import matplotlib.pyplot as plt\n",
    "%matplotlib inline"
   ]
  },
  {
   "cell_type": "code",
   "execution_count": 4,
   "metadata": {},
   "outputs": [
    {
     "data": {
      "text/plain": [
       "'1.5.3'"
      ]
     },
     "execution_count": 4,
     "metadata": {},
     "output_type": "execute_result"
    }
   ],
   "source": [
    "pd.__version__"
   ]
  },
  {
   "cell_type": "code",
   "execution_count": 5,
   "metadata": {},
   "outputs": [],
   "source": [
    "pd.options.display.max_rows = 100\n",
    "pd.options.display.max_columns = 100"
   ]
  },
  {
   "cell_type": "code",
   "execution_count": 6,
   "metadata": {},
   "outputs": [],
   "source": [
    "def read_json(json_path):\n",
    "    with open(json_path, 'r') as f:\n",
    "        data = json.load(f)\n",
    "    f.close()\n",
    "    # Create different lists from the data dictionary\n",
    "\n",
    "    annotations = pd.DataFrame(data[\"annotations\"])\n",
    "    category = pd.DataFrame(data[\"categories\"])\n",
    "    info = pd.DataFrame.from_dict(data[\"info\"], orient='index')\n",
    "    images = pd.DataFrame(data['images'])\n",
    "    licenses = pd.DataFrame(data['licenses'])\n",
    "    return annotations, category, info, images, licenses"
   ]
  },
  {
   "cell_type": "code",
   "execution_count": 7,
   "metadata": {},
   "outputs": [],
   "source": [
    "json_train_path = './dataset/fungi/train_val_annotations/train.json'\n",
    "json_val_path = './dataset/fungi/train_val_annotations/val.json'\n",
    "tr_annotation, tr_category, tr_info, tr_images, tr_licenses = read_json(json_train_path)\n",
    "val_annotation, val_category, val_info, val_images, val_licenses = read_json(json_val_path)"
   ]
  },
  {
   "cell_type": "code",
   "execution_count": 8,
   "metadata": {},
   "outputs": [
    {
     "data": {
      "text/html": [
       "<div>\n",
       "<style scoped>\n",
       "    .dataframe tbody tr th:only-of-type {\n",
       "        vertical-align: middle;\n",
       "    }\n",
       "\n",
       "    .dataframe tbody tr th {\n",
       "        vertical-align: top;\n",
       "    }\n",
       "\n",
       "    .dataframe thead th {\n",
       "        text-align: right;\n",
       "    }\n",
       "</style>\n",
       "<table border=\"1\" class=\"dataframe\">\n",
       "  <thead>\n",
       "    <tr style=\"text-align: right;\">\n",
       "      <th></th>\n",
       "      <th>id</th>\n",
       "      <th>category_id</th>\n",
       "      <th>image_id</th>\n",
       "    </tr>\n",
       "  </thead>\n",
       "  <tbody>\n",
       "    <tr>\n",
       "      <th>0</th>\n",
       "      <td>43829</td>\n",
       "      <td>650</td>\n",
       "      <td>21942</td>\n",
       "    </tr>\n",
       "    <tr>\n",
       "      <th>1</th>\n",
       "      <td>44039</td>\n",
       "      <td>650</td>\n",
       "      <td>21943</td>\n",
       "    </tr>\n",
       "    <tr>\n",
       "      <th>2</th>\n",
       "      <td>44255</td>\n",
       "      <td>650</td>\n",
       "      <td>21944</td>\n",
       "    </tr>\n",
       "    <tr>\n",
       "      <th>3</th>\n",
       "      <td>44614</td>\n",
       "      <td>650</td>\n",
       "      <td>22210</td>\n",
       "    </tr>\n",
       "    <tr>\n",
       "      <th>4</th>\n",
       "      <td>45510</td>\n",
       "      <td>650</td>\n",
       "      <td>24812</td>\n",
       "    </tr>\n",
       "  </tbody>\n",
       "</table>\n",
       "</div>"
      ],
      "text/plain": [
       "      id  category_id  image_id\n",
       "0  43829          650     21942\n",
       "1  44039          650     21943\n",
       "2  44255          650     21944\n",
       "3  44614          650     22210\n",
       "4  45510          650     24812"
      ]
     },
     "execution_count": 8,
     "metadata": {},
     "output_type": "execute_result"
    }
   ],
   "source": [
    "tr_annotation.head()"
   ]
  },
  {
   "cell_type": "code",
   "execution_count": 9,
   "metadata": {},
   "outputs": [
    {
     "data": {
      "text/plain": [
       "1394"
      ]
     },
     "execution_count": 9,
     "metadata": {},
     "output_type": "execute_result"
    }
   ],
   "source": [
    "tr_annotation['category_id'].nunique()"
   ]
  },
  {
   "cell_type": "code",
   "execution_count": 18,
   "metadata": {},
   "outputs": [
    {
     "data": {
      "text/plain": [
       "[0, 1, 2]"
      ]
     },
     "execution_count": 18,
     "metadata": {},
     "output_type": "execute_result"
    }
   ],
   "source": [
    "categories = sorted([int(i) for i in tr_annotation['category_id'].unique().tolist()])\n",
    "categories[:3]"
   ]
  },
  {
   "cell_type": "code",
   "execution_count": 11,
   "metadata": {},
   "outputs": [],
   "source": [
    "def create_merged_json_df(images, annotations, category):\n",
    "    \"\"\" args = takes the three important dataframes\n",
    "    returns = create a merged dataframe with all the important data\n",
    "    \"\"\"\n",
    "    data_df = images.copy()\n",
    "\n",
    "    ## to the images dataframe, we add the category_id column - our target\n",
    "    data_df['category_id'] = annotations[annotations['image_id'] == data_df['id']]['category_id']\n",
    "    category.set_index('id')\n",
    "    data_df = pd.merge(left=data_df, right=category, how='left', left_on='category_id', right_on='id')\n",
    "    data_df.drop(columns = ['id_y'], inplace=True)\n",
    "    #change the column to a string?\n",
    "    data_df['category_id'] = data_df['category_id'].astype(str) \n",
    "    # Add the columns of image name and its subdirectory/catefory\n",
    "    data_df['image_name'] = data_df['file_name'].str.split('/').str[2]\n",
    "    data_df['subdir'] = data_df['file_name'].str.split(pat='/', n=1).str[1]\n",
    "    return data_df"
   ]
  },
  {
   "cell_type": "code",
   "execution_count": 13,
   "metadata": {},
   "outputs": [
    {
     "data": {
      "text/html": [
       "<div>\n",
       "<style scoped>\n",
       "    .dataframe tbody tr th:only-of-type {\n",
       "        vertical-align: middle;\n",
       "    }\n",
       "\n",
       "    .dataframe tbody tr th {\n",
       "        vertical-align: top;\n",
       "    }\n",
       "\n",
       "    .dataframe thead th {\n",
       "        text-align: right;\n",
       "    }\n",
       "</style>\n",
       "<table border=\"1\" class=\"dataframe\">\n",
       "  <thead>\n",
       "    <tr style=\"text-align: right;\">\n",
       "      <th></th>\n",
       "      <th>id_x</th>\n",
       "      <th>file_name</th>\n",
       "      <th>width</th>\n",
       "      <th>license</th>\n",
       "      <th>rights_holder</th>\n",
       "      <th>height</th>\n",
       "      <th>category_id</th>\n",
       "      <th>name</th>\n",
       "      <th>supercategory</th>\n",
       "      <th>image_name</th>\n",
       "      <th>subdir</th>\n",
       "      <th>freq</th>\n",
       "    </tr>\n",
       "  </thead>\n",
       "  <tbody>\n",
       "    <tr>\n",
       "      <th>0</th>\n",
       "      <td>21942</td>\n",
       "      <td>images/16390_Leucoagaricus_leucothites/OBL2010...</td>\n",
       "      <td>1300</td>\n",
       "      <td>1</td>\n",
       "      <td>Ole B. Lyshede</td>\n",
       "      <td>732</td>\n",
       "      <td>650</td>\n",
       "      <td>Leucoagaricus leucothites</td>\n",
       "      <td>Leucoagaricus</td>\n",
       "      <td>OBL2010PIC27332400.JPG</td>\n",
       "      <td>16390_Leucoagaricus_leucothites/OBL2010PIC2733...</td>\n",
       "      <td>81</td>\n",
       "    </tr>\n",
       "    <tr>\n",
       "      <th>1</th>\n",
       "      <td>21943</td>\n",
       "      <td>images/16390_Leucoagaricus_leucothites/OBL2010...</td>\n",
       "      <td>1400</td>\n",
       "      <td>1</td>\n",
       "      <td>Ole B. Lyshede</td>\n",
       "      <td>788</td>\n",
       "      <td>650</td>\n",
       "      <td>Leucoagaricus leucothites</td>\n",
       "      <td>Leucoagaricus</td>\n",
       "      <td>OBL2010PIC74504431.JPG</td>\n",
       "      <td>16390_Leucoagaricus_leucothites/OBL2010PIC7450...</td>\n",
       "      <td>81</td>\n",
       "    </tr>\n",
       "    <tr>\n",
       "      <th>2</th>\n",
       "      <td>21944</td>\n",
       "      <td>images/16390_Leucoagaricus_leucothites/OBL2010...</td>\n",
       "      <td>1400</td>\n",
       "      <td>1</td>\n",
       "      <td>Ole B. Lyshede</td>\n",
       "      <td>788</td>\n",
       "      <td>650</td>\n",
       "      <td>Leucoagaricus leucothites</td>\n",
       "      <td>Leucoagaricus</td>\n",
       "      <td>OBL2010PIC48004850.JPG</td>\n",
       "      <td>16390_Leucoagaricus_leucothites/OBL2010PIC4800...</td>\n",
       "      <td>81</td>\n",
       "    </tr>\n",
       "  </tbody>\n",
       "</table>\n",
       "</div>"
      ],
      "text/plain": [
       "    id_x                                          file_name  width  license  \\\n",
       "0  21942  images/16390_Leucoagaricus_leucothites/OBL2010...   1300        1   \n",
       "1  21943  images/16390_Leucoagaricus_leucothites/OBL2010...   1400        1   \n",
       "2  21944  images/16390_Leucoagaricus_leucothites/OBL2010...   1400        1   \n",
       "\n",
       "    rights_holder  height category_id                       name  \\\n",
       "0  Ole B. Lyshede     732         650  Leucoagaricus leucothites   \n",
       "1  Ole B. Lyshede     788         650  Leucoagaricus leucothites   \n",
       "2  Ole B. Lyshede     788         650  Leucoagaricus leucothites   \n",
       "\n",
       "   supercategory              image_name  \\\n",
       "0  Leucoagaricus  OBL2010PIC27332400.JPG   \n",
       "1  Leucoagaricus  OBL2010PIC74504431.JPG   \n",
       "2  Leucoagaricus  OBL2010PIC48004850.JPG   \n",
       "\n",
       "                                              subdir  freq  \n",
       "0  16390_Leucoagaricus_leucothites/OBL2010PIC2733...    81  \n",
       "1  16390_Leucoagaricus_leucothites/OBL2010PIC7450...    81  \n",
       "2  16390_Leucoagaricus_leucothites/OBL2010PIC4800...    81  "
      ]
     },
     "execution_count": 13,
     "metadata": {},
     "output_type": "execute_result"
    }
   ],
   "source": [
    "tr_data = create_merged_json_df(tr_images, tr_annotation, tr_category)\n",
    "tr_data['freq'] = tr_data.groupby('category_id')['category_id'].transform('count')\n",
    "# tr_data['category_id'] = tr_annotation[tr_annotation['image_id'] == tr_data['id']]['category_id']\n",
    "# tr_data.sort_values(by=['file_name'], inplace=True)\n",
    "tr_data.head(3)"
   ]
  },
  {
   "cell_type": "code",
   "execution_count": 43,
   "metadata": {},
   "outputs": [
    {
     "data": {
      "text/plain": [
       "(81, 12)"
      ]
     },
     "execution_count": 43,
     "metadata": {},
     "output_type": "execute_result"
    }
   ],
   "source": [
    "tr_data[tr_data['category_id']=='650'].shape"
   ]
  },
  {
   "cell_type": "code",
   "execution_count": 21,
   "metadata": {},
   "outputs": [
    {
     "data": {
      "text/plain": [
       "[0, 1, 2]"
      ]
     },
     "execution_count": 21,
     "metadata": {},
     "output_type": "execute_result"
    }
   ],
   "source": [
    "category_id_train = sorted([int(i) for i in tr_data['category_id'].unique().tolist()])\n",
    "category_id_train[:3]"
   ]
  },
  {
   "cell_type": "code",
   "execution_count": 22,
   "metadata": {},
   "outputs": [
    {
     "data": {
      "text/plain": [
       "'images/16390_Leucoagaricus_leucothites/OBL2010PIC27332400.JPG'"
      ]
     },
     "execution_count": 22,
     "metadata": {},
     "output_type": "execute_result"
    }
   ],
   "source": [
    "tr_data.iloc[0,1]"
   ]
  },
  {
   "cell_type": "code",
   "execution_count": 23,
   "metadata": {},
   "outputs": [
    {
     "data": {
      "text/html": [
       "<div>\n",
       "<style scoped>\n",
       "    .dataframe tbody tr th:only-of-type {\n",
       "        vertical-align: middle;\n",
       "    }\n",
       "\n",
       "    .dataframe tbody tr th {\n",
       "        vertical-align: top;\n",
       "    }\n",
       "\n",
       "    .dataframe thead th {\n",
       "        text-align: right;\n",
       "    }\n",
       "</style>\n",
       "<table border=\"1\" class=\"dataframe\">\n",
       "  <thead>\n",
       "    <tr style=\"text-align: right;\">\n",
       "      <th></th>\n",
       "      <th>id_x</th>\n",
       "      <th>file_name</th>\n",
       "      <th>width</th>\n",
       "      <th>license</th>\n",
       "      <th>rights_holder</th>\n",
       "      <th>height</th>\n",
       "      <th>category_id</th>\n",
       "      <th>name</th>\n",
       "      <th>supercategory</th>\n",
       "      <th>image_name</th>\n",
       "      <th>subdir</th>\n",
       "    </tr>\n",
       "  </thead>\n",
       "  <tbody>\n",
       "    <tr>\n",
       "      <th>0</th>\n",
       "      <td>12208</td>\n",
       "      <td>images/16390_Leucoagaricus_leucothites/JM2009P...</td>\n",
       "      <td>1500</td>\n",
       "      <td>1</td>\n",
       "      <td>Jens Mårbjerg</td>\n",
       "      <td>985</td>\n",
       "      <td>650</td>\n",
       "      <td>Leucoagaricus leucothites</td>\n",
       "      <td>Leucoagaricus</td>\n",
       "      <td>JM2009PIC63194578.JPG</td>\n",
       "      <td>16390_Leucoagaricus_leucothites/JM2009PIC63194...</td>\n",
       "    </tr>\n",
       "    <tr>\n",
       "      <th>1</th>\n",
       "      <td>58713</td>\n",
       "      <td>images/16390_Leucoagaricus_leucothites/JM2012P...</td>\n",
       "      <td>1000</td>\n",
       "      <td>1</td>\n",
       "      <td>Jens Mårbjerg</td>\n",
       "      <td>669</td>\n",
       "      <td>650</td>\n",
       "      <td>Leucoagaricus leucothites</td>\n",
       "      <td>Leucoagaricus</td>\n",
       "      <td>JM2012PIC41096317.JPG</td>\n",
       "      <td>16390_Leucoagaricus_leucothites/JM2012PIC41096...</td>\n",
       "    </tr>\n",
       "    <tr>\n",
       "      <th>2</th>\n",
       "      <td>14255</td>\n",
       "      <td>images/16390_Leucoagaricus_leucothites/MC2009P...</td>\n",
       "      <td>700</td>\n",
       "      <td>1</td>\n",
       "      <td>Morten Christensen</td>\n",
       "      <td>469</td>\n",
       "      <td>650</td>\n",
       "      <td>Leucoagaricus leucothites</td>\n",
       "      <td>Leucoagaricus</td>\n",
       "      <td>MC2009PIC47538806.JPG</td>\n",
       "      <td>16390_Leucoagaricus_leucothites/MC2009PIC47538...</td>\n",
       "    </tr>\n",
       "  </tbody>\n",
       "</table>\n",
       "</div>"
      ],
      "text/plain": [
       "    id_x                                          file_name  width  license  \\\n",
       "0  12208  images/16390_Leucoagaricus_leucothites/JM2009P...   1500        1   \n",
       "1  58713  images/16390_Leucoagaricus_leucothites/JM2012P...   1000        1   \n",
       "2  14255  images/16390_Leucoagaricus_leucothites/MC2009P...    700        1   \n",
       "\n",
       "        rights_holder  height category_id                       name  \\\n",
       "0       Jens Mårbjerg     985         650  Leucoagaricus leucothites   \n",
       "1       Jens Mårbjerg     669         650  Leucoagaricus leucothites   \n",
       "2  Morten Christensen     469         650  Leucoagaricus leucothites   \n",
       "\n",
       "   supercategory             image_name  \\\n",
       "0  Leucoagaricus  JM2009PIC63194578.JPG   \n",
       "1  Leucoagaricus  JM2012PIC41096317.JPG   \n",
       "2  Leucoagaricus  MC2009PIC47538806.JPG   \n",
       "\n",
       "                                              subdir  \n",
       "0  16390_Leucoagaricus_leucothites/JM2009PIC63194...  \n",
       "1  16390_Leucoagaricus_leucothites/JM2012PIC41096...  \n",
       "2  16390_Leucoagaricus_leucothites/MC2009PIC47538...  "
      ]
     },
     "execution_count": 23,
     "metadata": {},
     "output_type": "execute_result"
    }
   ],
   "source": [
    "val_data = create_merged_json_df(val_images, val_annotation, val_category)\n",
    "val_data.head(3)"
   ]
  },
  {
   "cell_type": "code",
   "execution_count": 24,
   "metadata": {},
   "outputs": [
    {
     "data": {
      "text/html": [
       "<div>\n",
       "<style scoped>\n",
       "    .dataframe tbody tr th:only-of-type {\n",
       "        vertical-align: middle;\n",
       "    }\n",
       "\n",
       "    .dataframe tbody tr th {\n",
       "        vertical-align: top;\n",
       "    }\n",
       "\n",
       "    .dataframe thead th {\n",
       "        text-align: right;\n",
       "    }\n",
       "</style>\n",
       "<table border=\"1\" class=\"dataframe\">\n",
       "  <thead>\n",
       "    <tr style=\"text-align: right;\">\n",
       "      <th></th>\n",
       "      <th>name</th>\n",
       "      <th>supercategory</th>\n",
       "    </tr>\n",
       "    <tr>\n",
       "      <th>id</th>\n",
       "      <th></th>\n",
       "      <th></th>\n",
       "    </tr>\n",
       "  </thead>\n",
       "  <tbody>\n",
       "    <tr>\n",
       "      <th>650</th>\n",
       "      <td>Leucoagaricus leucothites</td>\n",
       "      <td>Leucoagaricus</td>\n",
       "    </tr>\n",
       "    <tr>\n",
       "      <th>1158</th>\n",
       "      <td>Byssomerulius corium</td>\n",
       "      <td>Byssomerulius</td>\n",
       "    </tr>\n",
       "    <tr>\n",
       "      <th>651</th>\n",
       "      <td>Leucocoprinus brebissonii</td>\n",
       "      <td>Leucocoprinus</td>\n",
       "    </tr>\n",
       "    <tr>\n",
       "      <th>652</th>\n",
       "      <td>Leucogyrophana mollusca</td>\n",
       "      <td>Leucogyrophana</td>\n",
       "    </tr>\n",
       "    <tr>\n",
       "      <th>1159</th>\n",
       "      <td>Calocybe carnea</td>\n",
       "      <td>Calocybe</td>\n",
       "    </tr>\n",
       "  </tbody>\n",
       "</table>\n",
       "</div>"
      ],
      "text/plain": [
       "                           name   supercategory\n",
       "id                                             \n",
       "650   Leucoagaricus leucothites   Leucoagaricus\n",
       "1158       Byssomerulius corium   Byssomerulius\n",
       "651   Leucocoprinus brebissonii   Leucocoprinus\n",
       "652     Leucogyrophana mollusca  Leucogyrophana\n",
       "1159            Calocybe carnea        Calocybe"
      ]
     },
     "execution_count": 24,
     "metadata": {},
     "output_type": "execute_result"
    }
   ],
   "source": [
    "tr_category.set_index('id').head()"
   ]
  },
  {
   "cell_type": "code",
   "execution_count": null,
   "metadata": {},
   "outputs": [],
   "source": [
    "# images_report = sv.analyze(tr_images)\n",
    "# #display the report\n",
    "# images_report.show_html('sweetviz_train_images.html')"
   ]
  },
  {
   "cell_type": "code",
   "execution_count": null,
   "metadata": {},
   "outputs": [],
   "source": [
    "# train_data_report = sv.analyze(tr_data)\n",
    "# #display the report\n",
    "# train_data_report.show_html('sweetviz_train_data.html')"
   ]
  },
  {
   "cell_type": "code",
   "execution_count": 19,
   "metadata": {},
   "outputs": [],
   "source": [
    "# from ydata_profiling import ProfileReport\n",
    "# profile = ProfileReport(tr_images, title='images Pandas Profiling Report')\n",
    "# # profile"
   ]
  },
  {
   "cell_type": "code",
   "execution_count": 20,
   "metadata": {},
   "outputs": [],
   "source": [
    "# profile.to_file('Report_train_json.html')"
   ]
  },
  {
   "cell_type": "code",
   "execution_count": 25,
   "metadata": {},
   "outputs": [
    {
     "data": {
      "text/plain": [
       "(85578, 4182)"
      ]
     },
     "execution_count": 25,
     "metadata": {},
     "output_type": "execute_result"
    }
   ],
   "source": [
    "train_images_names = tr_data['file_name'].to_list()\n",
    "val_images_names = val_data['file_name'].to_list()\n",
    "len(train_images_names), len(val_images_names)"
   ]
  },
  {
   "cell_type": "code",
   "execution_count": 34,
   "metadata": {},
   "outputs": [
    {
     "data": {
      "text/plain": [
       "(85578, 4182)"
      ]
     },
     "execution_count": 34,
     "metadata": {},
     "output_type": "execute_result"
    }
   ],
   "source": [
    "train_images_cat = tr_data['category_id'].to_list()\n",
    "val_images_cat = val_data['category_id'].to_list()\n",
    "len(train_images_cat), len(val_images_cat)"
   ]
  },
  {
   "cell_type": "code",
   "execution_count": 36,
   "metadata": {},
   "outputs": [
    {
     "data": {
      "text/plain": [
       "[['650', 'images/16390_Leucoagaricus_leucothites/OBL2010PIC27332400.JPG'],\n",
       " ['650', 'images/16390_Leucoagaricus_leucothites/OBL2010PIC74504431.JPG'],\n",
       " ['650', 'images/16390_Leucoagaricus_leucothites/OBL2010PIC48004850.JPG']]"
      ]
     },
     "execution_count": 36,
     "metadata": {},
     "output_type": "execute_result"
    }
   ],
   "source": [
    "train_key_value_lst = [[key, value] for key, value in zip(train_images_cat, train_images_names)]\n",
    "val_key_value_lst = [[key, value] for key, value in zip(val_images_cat, val_images_names)]\n",
    "train_key_value_lst[:3]"
   ]
  },
  {
   "cell_type": "code",
   "execution_count": 38,
   "metadata": {},
   "outputs": [
    {
     "data": {
      "text/plain": [
       "[['649',\n",
       "  'images/16382_Leucoagaricus_leucothites var. carneifolius/WE2013PIC82590980.JPG'],\n",
       " ['649',\n",
       "  'images/16382_Leucoagaricus_leucothites var. carneifolius/KMO2016-9181394_rkuEVUwge.JPG'],\n",
       " ['649',\n",
       "  'images/16382_Leucoagaricus_leucothites var. carneifolius/KMO2016-9181394_HkeuE4UPxx.JPG']]"
      ]
     },
     "execution_count": 38,
     "metadata": {},
     "output_type": "execute_result"
    }
   ],
   "source": [
    "train_key_value_lst[-3:]"
   ]
  },
  {
   "cell_type": "code",
   "execution_count": 37,
   "metadata": {},
   "outputs": [
    {
     "data": {
      "text/plain": [
       "[['650', 'images/16390_Leucoagaricus_leucothites/JM2009PIC63194578.JPG'],\n",
       " ['650', 'images/16390_Leucoagaricus_leucothites/JM2012PIC41096317.JPG'],\n",
       " ['650', 'images/16390_Leucoagaricus_leucothites/MC2009PIC47538806.JPG']]"
      ]
     },
     "execution_count": 37,
     "metadata": {},
     "output_type": "execute_result"
    }
   ],
   "source": [
    "val_key_value_lst[:3]"
   ]
  },
  {
   "cell_type": "code",
   "execution_count": 39,
   "metadata": {},
   "outputs": [
    {
     "data": {
      "text/plain": [
       "[['649',\n",
       "  'images/16382_Leucoagaricus_leucothites var. carneifolius/KNI2009PIC72916487.JPG'],\n",
       " ['649',\n",
       "  'images/16382_Leucoagaricus_leucothites var. carneifolius/KNI2009PIC52108197.JPG'],\n",
       " ['649',\n",
       "  'images/16382_Leucoagaricus_leucothites var. carneifolius/KNI2009PIC22904040.JPG']]"
      ]
     },
     "execution_count": 39,
     "metadata": {},
     "output_type": "execute_result"
    }
   ],
   "source": [
    "val_key_value_lst[-3:]"
   ]
  },
  {
   "cell_type": "code",
   "execution_count": 41,
   "metadata": {},
   "outputs": [],
   "source": [
    "with open('./dataset/fungi/train_images_cat.txt', 'w') as f:\n",
    "    for line in train_key_value_lst:\n",
    "        f.write(f\"{line[0]}@:@\" + \"/\".join(line[1].split('/')[1:]) + '\\n')\n",
    "f.close()"
   ]
  },
  {
   "cell_type": "code",
   "execution_count": 42,
   "metadata": {},
   "outputs": [],
   "source": [
    "with open('./dataset/fungi/val_images_cat.txt', 'w') as f:\n",
    "    for line in val_key_value_lst:\n",
    "        f.write(f\"{line[0]}@:@\" + \"/\".join(line[1].split('/')[1:]) + '\\n')\n",
    "f.close()"
   ]
  },
  {
   "cell_type": "code",
   "execution_count": 32,
   "metadata": {},
   "outputs": [],
   "source": [
    "with open('./dataset/fungi/val_images.txt', 'w') as f:\n",
    "    for line in val_images_names:\n",
    "        f.write(\"/\".join(line.split('/')[1:]) + '\\n')\n",
    "f.close()"
   ]
  },
  {
   "cell_type": "code",
   "execution_count": null,
   "metadata": {},
   "outputs": [],
   "source": []
  }
 ],
 "metadata": {
  "kernelspec": {
   "display_name": "base",
   "language": "python",
   "name": "python3"
  },
  "language_info": {
   "codemirror_mode": {
    "name": "ipython",
    "version": 3
   },
   "file_extension": ".py",
   "mimetype": "text/x-python",
   "name": "python",
   "nbconvert_exporter": "python",
   "pygments_lexer": "ipython3",
   "version": "3.9.16"
  },
  "orig_nbformat": 4
 },
 "nbformat": 4,
 "nbformat_minor": 2
}
