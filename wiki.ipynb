{
 "cells": [
  {
   "cell_type": "code",
   "execution_count": null,
   "metadata": {},
   "outputs": [],
   "source": [
    "# !pip install wikipedia\n",
    "# !pip install wikitextparser\n",
    "# !pip install Wikipedia-API\n",
    "# !pip install scikit-image"
   ]
  },
  {
   "cell_type": "code",
   "execution_count": null,
   "metadata": {},
   "outputs": [],
   "source": [
    "from my_utils import mashrooms as mr\n",
    "import wikipedia as wiki\n",
    "from PIL import Image\n",
    "import matplotlib.pyplot as plt\n",
    "import cv2\n",
    "import requests\n",
    "from io import BytesIO\n",
    "import skimage\n",
    "from pprint import pprint\n",
    "import numpy as np"
   ]
  },
  {
   "cell_type": "code",
   "execution_count": null,
   "metadata": {},
   "outputs": [],
   "source": [
    "def read_wiki_images(url, show_image=False):\n",
    "    if isinstance(url, list):\n",
    "        if len(url)>3:\n",
    "            cols = 3\n",
    "            rows = len(url)//cols\n",
    "        else:\n",
    "            cols = len(url)\n",
    "            rows = 1\n",
    "    else:\n",
    "        rows = 1\n",
    "        cols = 1\n",
    "    img = skimage.io.imread(url)\n",
    "    if show_image:\n",
    "        plt.rcParams['figure.figsize'] = (3,3)\n",
    "        plt.imshow(img);\n",
    "        plt.show()\n",
    "class WikiArticle(object):\n",
    "    def __init__(self, title = '', language = 'ru'):\n",
    "        self.title = title\n",
    "        self.lang = language\n",
    "        wiki.set_lang(self.lang)\n",
    "    def set_lang(self):\n",
    "        wiki.set_lang(self.lang)\n",
    "    \n",
    "    def get_article_wiki(self):\n",
    "        try:\n",
    "            self.page = wiki.WikipediaPage(self.title)\n",
    "            return self.page\n",
    "        except Exception as e:\n",
    "            print(\"[ERROR] Page not read! See below errors:\")\n",
    "            print(e)\n",
    "    def get_images_links(self):\n",
    "        self.links_images = self.page.images\n",
    "        self.links_images = [i for i in self.links_images if i.endswith('.jpg') or i.endswith('.png')]\n",
    "        return self.links_images\n",
    "        # page.split('\\n')"
   ]
  },
  {
   "cell_type": "code",
   "execution_count": null,
   "metadata": {},
   "outputs": [],
   "source": [
    "mashrooms_dict = mr.mashrooms_dict\n",
    "# mashrooms_dict[0]\n",
    "item = mashrooms_dict[-1]['rus']\n",
    "item"
   ]
  },
  {
   "cell_type": "code",
   "execution_count": null,
   "metadata": {},
   "outputs": [],
   "source": [
    "page = WikiArticle(item, 'ru')\n",
    "# page = WikiArticle('World', 'ru')\n",
    "# page = WikiArticle('Волоконница звёздчатоспоровая', 'ru')\n",
    "article = page.get_article_wiki()\n",
    "img_links = page.get_images_links()\n",
    "print(img_links)\n",
    "if isinstance(img_links, list):\n",
    "    [read_wiki_images(link, show_image=True) for link in img_links]\n",
    "else:\n",
    "    read_wiki_images(img_links, show_image=True)"
   ]
  },
  {
   "cell_type": "code",
   "execution_count": null,
   "metadata": {},
   "outputs": [],
   "source": [
    "article.categories"
   ]
  },
  {
   "cell_type": "code",
   "execution_count": null,
   "metadata": {},
   "outputs": [],
   "source": [
    "content = [i for i in article.content.split('\\n') if i!='']\n",
    "sections_article = [i for i in article.content.split('\\n') if i!='' and i.startswith(\"==\")]\n",
    "content"
   ]
  },
  {
   "cell_type": "code",
   "execution_count": null,
   "metadata": {},
   "outputs": [],
   "source": [
    "sections_article"
   ]
  },
  {
   "cell_type": "code",
   "execution_count": null,
   "metadata": {},
   "outputs": [],
   "source": [
    "pprint(article.section('Биологическое описание'))"
   ]
  },
  {
   "cell_type": "code",
   "execution_count": null,
   "metadata": {},
   "outputs": [],
   "source": []
  }
 ],
 "metadata": {
  "kernelspec": {
   "display_name": "base",
   "language": "python",
   "name": "python3"
  },
  "language_info": {
   "codemirror_mode": {
    "name": "ipython",
    "version": 3
   },
   "file_extension": ".py",
   "mimetype": "text/x-python",
   "name": "python",
   "nbconvert_exporter": "python",
   "pygments_lexer": "ipython3",
   "version": "3.9.13"
  },
  "orig_nbformat": 4
 },
 "nbformat": 4,
 "nbformat_minor": 2
}
